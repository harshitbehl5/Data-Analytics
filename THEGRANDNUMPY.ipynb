{
 "cells": [
  {
   "attachments": {},
   "cell_type": "markdown",
   "metadata": {},
   "source": [
    "In this grand realm of data science, this notebook shall serve as the ultimate compilation and the guidebook for any learner."
   ]
  },
  {
   "attachments": {},
   "cell_type": "markdown",
   "metadata": {},
   "source": [
    "DATA ANALYTICS BOOK"
   ]
  },
  {
   "cell_type": "code",
   "execution_count": 1,
   "metadata": {},
   "outputs": [],
   "source": [
    "#increase the size of the mark down by adding #\n",
    "#make the heading bold by ** \n",
    "#use <br> to nextline"
   ]
  },
  {
   "attachments": {},
   "cell_type": "markdown",
   "metadata": {},
   "source": [
    "NumPy, short for Numerical Python, is the fundamental package required for high\n",
    "performance scientific computing and data analysis. It is the foundation on which\n",
    "nearly all of the higher-level tools in this book are built. Here are some of the things it\n",
    "provides: \n",
    "<br>\n",
    "<br>\n",
    "• ndarray, a fast and space-efficient multidimensional array providing vectorized\n",
    "arithmetic operations and sophisticated broadcasting capabilities<br>\n",
    "• Standard mathematical functions for fast operations on entire arrays of data\n",
    "without having to write loops<br>\n",
    "• Tools for reading / writing array data to disk and working with memory-mapped\n",
    "files<br>\n",
    "• Linear algebra, random number generation, and Fourier transform capabilities<br>\n",
    "• Tools for integrating code written in C, C++, and Fortran<br>"
   ]
  },
  {
   "attachments": {},
   "cell_type": "markdown",
   "metadata": {},
   "source": [
    "One of the key features of NumPy is its N-dimensional array object, or ndarray, which\n",
    "is a fast, flexible container for large data sets in Python. Arrays enable you to perform\n",
    "mathematical operations on whole blocks of data using similar syntax to the equivalent\n",
    "operations between scalar elements<br>\n",
    "An ndarray is a generic multidimensional container for homogeneous data; that is, all\n",
    "of the elements must be the same type. Every array has a shape, a tuple indicating the\n",
    "size of each dimension, and a dtype, an object describing the data type of the array:\n"
   ]
  },
  {
   "cell_type": "code",
   "execution_count": 2,
   "metadata": {},
   "outputs": [],
   "source": [
    "import numpy as np"
   ]
  },
  {
   "cell_type": "code",
   "execution_count": 70,
   "metadata": {},
   "outputs": [],
   "source": [
    "data  = [1,2,3,4,5]\n",
    "arr = np.array(data)\n",
    "# you can define the datatype of array initially by dtype = 'required data type'"
   ]
  },
  {
   "cell_type": "code",
   "execution_count": 71,
   "metadata": {},
   "outputs": [
    {
     "name": "stdout",
     "output_type": "stream",
     "text": [
      "(5,)\n",
      "1\n",
      "5\n",
      "int32\n",
      "<class 'numpy.ndarray'>\n"
     ]
    }
   ],
   "source": [
    "print(arr.shape)\n",
    "print(arr.ndim)\n",
    "print(arr.size)\n",
    "print(arr.dtype)\n",
    "print(type(arr))"
   ]
  },
  {
   "cell_type": "code",
   "execution_count": 74,
   "metadata": {},
   "outputs": [
    {
     "data": {
      "text/plain": [
       "array([3, 4, 5, 6, 7])"
      ]
     },
     "execution_count": 74,
     "metadata": {},
     "output_type": "execute_result"
    }
   ],
   "source": [
    "arr + 2 #broadcasting"
   ]
  },
  {
   "cell_type": "code",
   "execution_count": 77,
   "metadata": {},
   "outputs": [
    {
     "data": {
      "text/plain": [
       "array([1., 2., 3., 4., 5.])"
      ]
     },
     "execution_count": 77,
     "metadata": {},
     "output_type": "execute_result"
    }
   ],
   "source": [
    "arr = arr.astype(float)\n",
    "arr #changing dtype"
   ]
  },
  {
   "attachments": {},
   "cell_type": "markdown",
   "metadata": {},
   "source": [
    "Insight: A 1D array, size=(n,) is a vector, A 2D array is a matrix, a 3D array is a Tensor.<br>\n",
    "A 2D array is a list of 1D arrays, A 3D array is a list of 2D array and so on.<br>\n",
    "size  = rows * columns"
   ]
  },
  {
   "attachments": {},
   "cell_type": "markdown",
   "metadata": {},
   "source": [
    "zeros and ones create arrays of 0’s or 1’s, respectively, with a given length\n",
    "or shape. empty creates an array without initializing its values to any particular value.\n",
    "To create a higher dimensional array with these methods, pass a tuple for the shape"
   ]
  },
  {
   "cell_type": "code",
   "execution_count": 18,
   "metadata": {},
   "outputs": [
    {
     "data": {
      "text/plain": [
       "array([0., 0., 0., 0., 0., 0., 0., 0., 0., 0.])"
      ]
     },
     "execution_count": 18,
     "metadata": {},
     "output_type": "execute_result"
    }
   ],
   "source": [
    "np.zeros(10)"
   ]
  },
  {
   "cell_type": "code",
   "execution_count": 19,
   "metadata": {},
   "outputs": [
    {
     "data": {
      "text/plain": [
       "array([[1., 1., 1.],\n",
       "       [1., 1., 1.]])"
      ]
     },
     "execution_count": 19,
     "metadata": {},
     "output_type": "execute_result"
    }
   ],
   "source": [
    "np.ones((2,3))"
   ]
  },
  {
   "cell_type": "code",
   "execution_count": 24,
   "metadata": {},
   "outputs": [
    {
     "data": {
      "text/plain": [
       "array([[[9.51243199e-312, 2.47032823e-322],\n",
       "        [0.00000000e+000, 0.00000000e+000],\n",
       "        [1.08221785e-312, 1.16095484e-028]],\n",
       "\n",
       "       [[3.65093134e+233, 3.18892178e-110],\n",
       "        [6.32672800e+180, 4.74483502e+170],\n",
       "        [3.00948078e-067, 7.24638380e-042]]])"
      ]
     },
     "execution_count": 24,
     "metadata": {},
     "output_type": "execute_result"
    }
   ],
   "source": [
    "np.empty((2,3,2))"
   ]
  },
  {
   "cell_type": "code",
   "execution_count": 32,
   "metadata": {},
   "outputs": [
    {
     "name": "stdout",
     "output_type": "stream",
     "text": [
      "[0 1 2 3 4 5 6 7]\n",
      "[[0 1 2 3]\n",
      " [4 5 6 7]]\n"
     ]
    }
   ],
   "source": [
    "#arange is an array-valued version of the built-in Python range function\n",
    "print(np.arange(8))\n",
    "print(np.arange(8).reshape(2,4)) #new size of should mutiply to total number of elements"
   ]
  },
  {
   "attachments": {},
   "cell_type": "markdown",
   "metadata": {},
   "source": [
    "array: Convert input data (list, tuple, array, or other sequence type) to an ndarray either by\n",
    "inferring a dtype or explicitly specifying a dtype. Copies the input data by default.<br> <br>\n",
    "asarray : Convert input to ndarray, but do not copy if the input is already an ndarray<br><br>\n",
    "arange Like the built-in range but returns an ndarray instead of a list.<br><br>\n",
    "ones, ones_like : Produce an array of all 1’s with the given shape and dtype. ones_like takes another array and produces a ones array of the same shape and dtype.<br><br>\n",
    "zeros, zeros_like : Like ones and ones_like but producing arrays of 0’s instead<br><br>\n",
    "empty, empty_like : Create new arrays by allocating new memory, but do not populate with any values like ones and zeros<br><br>\n",
    "eye, identity : Create a square N x N identity matrix (1’s on the diagonal and 0’s elsewhere)<br><br>\n",
    "Since NumPy is\n",
    "focused on numerical computing, the data type, if not specified, will in many cases be\n",
    "float64 (floating point)\n"
   ]
  },
  {
   "cell_type": "code",
   "execution_count": 36,
   "metadata": {},
   "outputs": [
    {
     "name": "stdout",
     "output_type": "stream",
     "text": [
      "[1.         1.42857143 1.85714286 2.28571429 2.71428571 3.14285714\n",
      " 3.57142857 4.         4.42857143 4.85714286 5.28571429 5.71428571\n",
      " 6.14285714 6.57142857 7.        ]\n",
      "[1 1 1 2 2 3 3 4 4 4 5 5 6 6 7]\n"
     ]
    }
   ],
   "source": [
    "#linspace gives linearly spaced array including the last element\n",
    "print(np.linspace(1,7,15))\n",
    "print(np.linspace(1,7,15).astype(int))\n",
    "#use astype to convert dtypes of an array, you can also pass some other arrays dtype\n",
    "#Calling astype always creates a new array (a copy of the data), \n",
    "#even if the new dtype is the same as the old dtype."
   ]
  },
  {
   "attachments": {},
   "cell_type": "markdown",
   "metadata": {},
   "source": [
    "COPY : Making copy of a data, change will not be seen in original data <br>\n",
    "VIEW : Creates a view of the data, change will be seen in the original data"
   ]
  },
  {
   "cell_type": "code",
   "execution_count": 6,
   "metadata": {},
   "outputs": [
    {
     "data": {
      "text/plain": [
       "array([ 2,  4,  6,  8, 10])"
      ]
     },
     "execution_count": 6,
     "metadata": {},
     "output_type": "execute_result"
    }
   ],
   "source": [
    "arr*2\n",
    "#Operations between differently sized arrays is called broadcasting"
   ]
  },
  {
   "cell_type": "code",
   "execution_count": 10,
   "metadata": {},
   "outputs": [
    {
     "name": "stdout",
     "output_type": "stream",
     "text": [
      "[12 12 12]\n"
     ]
    },
    {
     "data": {
      "text/plain": [
       "array([ 1,  2, 12, 12, 12])"
      ]
     },
     "execution_count": 10,
     "metadata": {},
     "output_type": "execute_result"
    }
   ],
   "source": [
    "print(arr[2:5])\n",
    "#  the value is propagated (or broadcasted henceforth) to the entire selection. \n",
    "# An important first distinction from lists is that array slices are views on the original array. This means that\n",
    "# the data is not copied, and any modifications to the view will be reflected in the source array\n",
    "arr[2:5] = 12\n",
    "arr"
   ]
  },
  {
   "cell_type": "code",
   "execution_count": 13,
   "metadata": {},
   "outputs": [
    {
     "data": {
      "text/plain": [
       "array([ 1,  2,  3, 12,  5])"
      ]
     },
     "execution_count": 13,
     "metadata": {},
     "output_type": "execute_result"
    }
   ],
   "source": [
    "a = np.array([1,2,3,4,5])\n",
    "aa = a[2:5]\n",
    "aa[1] = 12\n",
    "a   \n",
    "#changes made in sliced array will be seen in real array, to make a copy,\n",
    "#use arr[2:5].copy()    "
   ]
  },
  {
   "cell_type": "code",
   "execution_count": 19,
   "metadata": {},
   "outputs": [
    {
     "data": {
      "text/plain": [
       "array([[1, 2],\n",
       "       [4, 5],\n",
       "       [7, 8]])"
      ]
     },
     "execution_count": 19,
     "metadata": {},
     "output_type": "execute_result"
    }
   ],
   "source": [
    "#multi array indexing\n",
    "arr2 = np.arange(1,10).reshape(3,3)\n",
    "arr2[:,:2] "
   ]
  },
  {
   "cell_type": "code",
   "execution_count": 20,
   "metadata": {},
   "outputs": [],
   "source": [
    "names = np.array(['Bob', 'Joe', 'Will', 'Bob', 'Will', 'Joe', 'Joe'])\n",
    "data = np.random.randn(7,4)"
   ]
  },
  {
   "cell_type": "code",
   "execution_count": 22,
   "metadata": {},
   "outputs": [
    {
     "data": {
      "text/plain": [
       "array([ True, False, False,  True, False, False, False])"
      ]
     },
     "execution_count": 22,
     "metadata": {},
     "output_type": "execute_result"
    }
   ],
   "source": [
    "names == 'Bob'\n",
    "#for or, and use |,&"
   ]
  },
  {
   "cell_type": "code",
   "execution_count": 25,
   "metadata": {},
   "outputs": [
    {
     "data": {
      "text/plain": [
       "array([[ 0.45083693,  0.72080068, -0.62463153, -1.65702054],\n",
       "       [-0.43865978, -0.98346402, -0.34931858, -1.73651513]])"
      ]
     },
     "execution_count": 25,
     "metadata": {},
     "output_type": "execute_result"
    }
   ],
   "source": [
    "data[names=='Bob'] #masking\n",
    "# Selecting data from an array by boolean indexing always creates a copy of the data,\n",
    "# even if the returned array is unchanged."
   ]
  },
  {
   "cell_type": "code",
   "execution_count": 30,
   "metadata": {},
   "outputs": [
    {
     "name": "stdout",
     "output_type": "stream",
     "text": [
      "[[False False  True  True]\n",
      " [ True  True False  True]\n",
      " [ True False  True  True]\n",
      " [ True  True  True  True]\n",
      " [False  True False False]\n",
      " [False  True False False]\n",
      " [False False False  True]]\n",
      "[-0.62463153 -1.65702054 -0.52508431 -0.80780462 -0.13689924 -2.28594419\n",
      " -0.79120161 -1.62341722 -0.43865978 -0.98346402 -0.34931858 -1.73651513\n",
      " -0.53979638 -1.42155903 -1.25192778]\n"
     ]
    }
   ],
   "source": [
    "print(data<0)\n",
    "print(data[data<0]) #boolean indexing"
   ]
  },
  {
   "cell_type": "code",
   "execution_count": 38,
   "metadata": {},
   "outputs": [],
   "source": [
    "arr3 = np.zeros((8,4))\n",
    "for i in range(8):\n",
    "    arr3[i] = i"
   ]
  },
  {
   "attachments": {},
   "cell_type": "markdown",
   "metadata": {},
   "source": [
    "##### Whenever sending a multiple elements, send it as a list"
   ]
  },
  {
   "cell_type": "code",
   "execution_count": 41,
   "metadata": {},
   "outputs": [
    {
     "data": {
      "text/plain": [
       "array([[4., 4., 4., 4.],\n",
       "       [3., 3., 3., 3.],\n",
       "       [0., 0., 0., 0.],\n",
       "       [6., 6., 6., 6.]])"
      ]
     },
     "execution_count": 41,
     "metadata": {},
     "output_type": "execute_result"
    }
   ],
   "source": [
    "#fancy indexing\n",
    "arr3[[4,3,0,6]]"
   ]
  },
  {
   "cell_type": "code",
   "execution_count": 44,
   "metadata": {},
   "outputs": [
    {
     "data": {
      "text/plain": [
       "array([ 4, 23, 29, 10])"
      ]
     },
     "execution_count": 44,
     "metadata": {},
     "output_type": "execute_result"
    }
   ],
   "source": [
    "arr4 = np.arange(32).reshape((8, 4))\n",
    "arr4[[1, 5, 7, 2], [0, 3, 1, 2]]\n",
    "# the elements (1, 0), (5, 3), (7,1), and (2, 2) were selected. \n",
    "# The behavior of fancy indexing in this case is a bit different\n",
    "# from what some users might have expected (myself included), which is the rectangular\n",
    "# region formed by selecting a subset of the matrix’s rows and columns."
   ]
  },
  {
   "cell_type": "code",
   "execution_count": 46,
   "metadata": {},
   "outputs": [
    {
     "data": {
      "text/plain": [
       "array([[ 4,  7,  5,  6],\n",
       "       [20, 23, 21, 22],\n",
       "       [28, 31, 29, 30],\n",
       "       [ 8, 11,  9, 10]])"
      ]
     },
     "execution_count": 46,
     "metadata": {},
     "output_type": "execute_result"
    }
   ],
   "source": [
    "arr4[[1, 5, 7, 2]][:, [0, 3, 1, 2]] #first slice the required array, then index it"
   ]
  },
  {
   "cell_type": "code",
   "execution_count": 48,
   "metadata": {},
   "outputs": [
    {
     "data": {
      "text/plain": [
       "array([[ 4,  7,  5,  6],\n",
       "       [20, 23, 21, 22],\n",
       "       [28, 31, 29, 30],\n",
       "       [ 8, 11,  9, 10]])"
      ]
     },
     "execution_count": 48,
     "metadata": {},
     "output_type": "execute_result"
    }
   ],
   "source": [
    "#another method\n",
    "arr4[np.ix_([1, 5, 7, 2], [0, 3, 1, 2])]"
   ]
  },
  {
   "cell_type": "code",
   "execution_count": 56,
   "metadata": {},
   "outputs": [
    {
     "data": {
      "text/plain": [
       "array([[ 0,  4,  8, 12, 16, 20, 24, 28],\n",
       "       [ 1,  5,  9, 13, 17, 21, 25, 29],\n",
       "       [ 2,  6, 10, 14, 18, 22, 26, 30],\n",
       "       [ 3,  7, 11, 15, 19, 23, 27, 31]])"
      ]
     },
     "execution_count": 56,
     "metadata": {},
     "output_type": "execute_result"
    }
   ],
   "source": [
    "arr4.T\n",
    "#np.transpose, np.dot, np.add, np.mean, np.std, np.var, arr.mean(), arr.std(), arr.var(),\n",
    "#arr.swapaxes(axis1, axis2) - returns a view"
   ]
  },
  {
   "cell_type": "code",
   "execution_count": null,
   "metadata": {},
   "outputs": [],
   "source": [
    "# A universal function, or ufunc, is a function that performs elementwise operations on\n",
    "# data in ndarrays. You can think of them as fast vectorized wrappers for simple functions\n",
    "# that take one or more scalar values and produce one or more scalar results.\n",
    "#np.sqrt, np.exp, np.sin, np.cos, np.maximum\n",
    "# These are referred to as unary ufuncs. Others, such as add or maximum, take 2 arrays\n",
    "# (thus, binary ufuncs) and return a single array as the result:\n",
    "#hile not common, a ufunc can return multiple arrays. modf is one example, a vectorized \n",
    "# version of the built-in Python divmod\n",
    "#refer book for more functions"
   ]
  },
  {
   "cell_type": "code",
   "execution_count": null,
   "metadata": {},
   "outputs": [],
   "source": [
    "# Using NumPy arrays enables you to express many kinds of data processing tasks as\n",
    "# concise array expressions that might otherwise require writing loops. This practice of\n",
    "# replacing explicit loops with array expressions is commonly referred to as vectorization. \n",
    "# In general, vectorized array operations will often be one or two (or more) orders\n",
    "# of magnitude faster than their pure Python equivalents, with the biggest impact in any\n",
    "# kind of numerical computations"
   ]
  },
  {
   "cell_type": "code",
   "execution_count": 11,
   "metadata": {},
   "outputs": [
    {
     "name": "stdout",
     "output_type": "stream",
     "text": [
      "[[ 1  2  3 ... 48 49 50]\n",
      " [ 1  2  3 ... 48 49 50]\n",
      " [ 1  2  3 ... 48 49 50]\n",
      " ...\n",
      " [ 1  2  3 ... 48 49 50]\n",
      " [ 1  2  3 ... 48 49 50]\n",
      " [ 1  2  3 ... 48 49 50]]\n",
      "[[ 1  1  1 ...  1  1  1]\n",
      " [ 2  2  2 ...  2  2  2]\n",
      " [ 3  3  3 ...  3  3  3]\n",
      " ...\n",
      " [48 48 48 ... 48 48 48]\n",
      " [49 49 49 ... 49 49 49]\n",
      " [50 50 50 ... 50 50 50]]\n"
     ]
    }
   ],
   "source": [
    "arr5 = np.arange(1,51)\n",
    "xs,ys = np.meshgrid(arr5, arr5)\n",
    "print(xs)\n",
    "print(ys)"
   ]
  },
  {
   "cell_type": "code",
   "execution_count": 12,
   "metadata": {},
   "outputs": [
    {
     "data": {
      "text/plain": [
       "[1.1, 2.2, 1.3, 1.4, 2.5]"
      ]
     },
     "execution_count": 12,
     "metadata": {},
     "output_type": "execute_result"
    }
   ],
   "source": [
    "xarr = np.array([1.1, 1.2, 1.3, 1.4, 1.5])\n",
    "yarr = np.array([2.1, 2.2, 2.3, 2.4, 2.5])\n",
    "cond = np.array([True, False, True, True, False])\n",
    "result = [(x if c else y) for x, y, c in zip(xarr, yarr, cond)]\n",
    "result"
   ]
  },
  {
   "cell_type": "code",
   "execution_count": 13,
   "metadata": {},
   "outputs": [
    {
     "data": {
      "text/plain": [
       "array([1.1, 2.2, 1.3, 1.4, 2.5])"
      ]
     },
     "execution_count": 13,
     "metadata": {},
     "output_type": "execute_result"
    }
   ],
   "source": [
    "result = np.where(cond, xarr, yarr)\n",
    "result"
   ]
  },
  {
   "cell_type": "code",
   "execution_count": null,
   "metadata": {},
   "outputs": [],
   "source": [
    "# arr = randn(4, 4)\n",
    "# np.where(arr > 0, 2, -2)\n",
    "# np.where(arr > 0, 2, arr)"
   ]
  },
  {
   "cell_type": "code",
   "execution_count": 21,
   "metadata": {},
   "outputs": [],
   "source": [
    "#arr.mean, np.mean(arr), arr.sum, arr.mean(axis=), arr.sum(axis). arr.cumsum, arr.cumprod\n",
    "# (arr > 0).sum(), arr.any, arr.all\n",
    "#There are two additional methods, any and all, useful especially for boolean arrays. \n",
    "#any tests whether one or more values in an array is True, while all checks if every value\n",
    "#is True\n",
    "#check book for more functions"
   ]
  },
  {
   "attachments": {},
   "cell_type": "markdown",
   "metadata": {},
   "source": [
    "#### AXIS = 1 = ROWS <br>\n",
    "#### AXIS = 0 = COLUMNS"
   ]
  },
  {
   "attachments": {},
   "cell_type": "markdown",
   "metadata": {},
   "source": [
    "a one dimensional array is a vector, if you put many vecors together, you get a matrix. putting many matrices together is a tensor"
   ]
  },
  {
   "cell_type": "code",
   "execution_count": null,
   "metadata": {},
   "outputs": [],
   "source": [
    "#arr.sort(), you can enter axis of you want to sort axis wise.\n",
    "#arr.sort() ; arr[int(0.05 * len(large_arr))] 5% quantile\n",
    "# The top level method np.sort returns a sorted copy of an array instead of modifying\n",
    "# the array in place. A quick-and-dirty way to compute the quantiles of an array is to sort\n",
    "# it and select the value at a particular rank\n",
    "# arr.sort() - view\n",
    "# np.sort(arr) - copy"
   ]
  },
  {
   "cell_type": "code",
   "execution_count": 27,
   "metadata": {},
   "outputs": [
    {
     "data": {
      "text/plain": [
       "array([1, 2, 3, 4])"
      ]
     },
     "execution_count": 27,
     "metadata": {},
     "output_type": "execute_result"
    }
   ],
   "source": [
    "#  np.unique which returns the sorted unique values in an array\n",
    "ints = np.array([3, 3, 3, 2, 2, 1, 1, 4, 4])\n",
    "# sorted(set(ints))\n",
    "np.unique(ints)"
   ]
  },
  {
   "cell_type": "code",
   "execution_count": 29,
   "metadata": {},
   "outputs": [
    {
     "data": {
      "text/plain": [
       "array([ True, False, False,  True,  True, False,  True])"
      ]
     },
     "execution_count": 29,
     "metadata": {},
     "output_type": "execute_result"
    }
   ],
   "source": [
    "# np.in1d, tests membership of the values in one array in another, returning a boolean array\n",
    "values = np.array([6, 0, 0, 3, 2, 5, 6])\n",
    "np.in1d(values, [2, 3, 6]) #sending multiple values\n",
    "#check for more functions in book"
   ]
  },
  {
   "cell_type": "code",
   "execution_count": null,
   "metadata": {},
   "outputs": [],
   "source": [
    "#np.save and np.load are the two workhorse functions for efficiently saving and loading\n",
    "# array data on disk\n",
    "# np.save('some_array', arr)\n",
    "#  np.load('some_array.npy')\n",
    "# You save multiple arrays in a zip archive using np.savez and passing the arrays as \n",
    "# keyword arguments:\n",
    "# np.savez('array_archive.npz', a=arr, b=arr)\n",
    "\n",
    "# When loading an .npz file, you get back a dict-like object which loads the individual \n",
    "# arrays lazily\n",
    "# arch = np.load('array_archive.npz')\n",
    "# arch['b']\n",
    "# array([0, 1, 2, 3, 4, 5, 6, 7, 8, 9])"
   ]
  },
  {
   "cell_type": "code",
   "execution_count": null,
   "metadata": {},
   "outputs": [],
   "source": [
    "#np.loadtxt\n",
    "#d np.genfromtxt\n",
    "# arr = np.loadtxt('array_ex.txt', delimiter=',')\n",
    "# np.savetxt "
   ]
  },
  {
   "cell_type": "code",
   "execution_count": null,
   "metadata": {},
   "outputs": [],
   "source": [
    "#x.dot(y)\n",
    "#numpy.linalg has a standard set of matrix decompositions and things like inverse and\n",
    "# determinant. These are implemented under the hood using the same industry-standard\n",
    "# Fortran libraries used in other languages like MATLAB and R, such as like BLAS, LAPACK, or possibly \n",
    "# (depending on your NumPy build) the Intel MKL\n",
    "#this library takes 2d matrices has functions like qr, inv\n",
    "#look for more functions in book"
   ]
  },
  {
   "cell_type": "code",
   "execution_count": 35,
   "metadata": {},
   "outputs": [
    {
     "data": {
      "text/plain": [
       "array([[-1.69387323, -0.50063375, -0.23759869, -0.16308785],\n",
       "       [ 0.06654304,  0.25573894,  0.24466015, -0.21590184],\n",
       "       [ 0.55526094,  1.16227337, -2.49103052,  0.6604649 ],\n",
       "       [-1.09163881, -1.05357504,  0.31140266,  0.93156632]])"
      ]
     },
     "execution_count": 35,
     "metadata": {},
     "output_type": "execute_result"
    }
   ],
   "source": [
    "np.random.normal(size=(4,4)) #gives a normalised data \n",
    "#refer book for more functions"
   ]
  },
  {
   "cell_type": "code",
   "execution_count": 36,
   "metadata": {},
   "outputs": [],
   "source": [
    "import seaborn as sns"
   ]
  },
  {
   "cell_type": "code",
   "execution_count": 39,
   "metadata": {},
   "outputs": [
    {
     "name": "stderr",
     "output_type": "stream",
     "text": [
      "C:\\Users\\harsh\\AppData\\Local\\Temp\\ipykernel_1988\\431941314.py:1: UserWarning: \n",
      "\n",
      "`distplot` is a deprecated function and will be removed in seaborn v0.14.0.\n",
      "\n",
      "Please adapt your code to use either `displot` (a figure-level function with\n",
      "similar flexibility) or `histplot` (an axes-level function for histograms).\n",
      "\n",
      "For a guide to updating your code to use the new functions, please see\n",
      "https://gist.github.com/mwaskom/de44147ed2974457ad6372750bbe5751\n",
      "\n",
      "  sns.distplot(np.random.normal(size=(1000,)))\n"
     ]
    },
    {
     "data": {
      "text/plain": [
       "<AxesSubplot: ylabel='Density'>"
      ]
     },
     "execution_count": 39,
     "metadata": {},
     "output_type": "execute_result"
    },
    {
     "data": {
      "image/png": "[encoded data removed]",
      "text/plain": [
       "<Figure size 640x480 with 1 Axes>"
      ]
     },
     "metadata": {},
     "output_type": "display_data"
    }
   ],
   "source": [
    "sns.distplot(np.random.normal(size=(1000,)))"
   ]
  },
  {
   "cell_type": "code",
   "execution_count": null,
   "metadata": {},
   "outputs": [],
   "source": [
    "# A more complicated statistic is the first crossing time, the step at which the random\n",
    "# walk reaches a particular value. Here we might want to know how long it took the\n",
    "# random walk to get at least 10 steps away from the origin 0 in either direction.\n",
    "# np.abs(walk) >= 10 gives us a boolean array indicating where the walk has reached or\n",
    "# exceeded 10, but we want the index of the first 10 or -10. Turns out this can be \n",
    "# computed using argmax, which returns the first index of the maximum value in the boolean\n",
    "# array (True is the maximum value):\n",
    "# (np.abs(walk) >= 10).argmax()\n",
    "# 37\n",
    "# Note that using argmax here is not always efficient because it always makes a full scan\n",
    "# of the array. In this special case once a True is observed we know it to be the maximum\n",
    "# value.\n"
   ]
  },
  {
   "cell_type": "code",
   "execution_count": null,
   "metadata": {},
   "outputs": [],
   "source": [
    "randomint = np.random.randint(1,100, size = (1,9)) # random array given range and size"
   ]
  },
  {
   "attachments": {},
   "cell_type": "markdown",
   "metadata": {},
   "source": [
    "Random data generation"
   ]
  },
  {
   "cell_type": "code",
   "execution_count": null,
   "metadata": {},
   "outputs": [],
   "source": [
    "#data generation\n",
    "rollno = list(range(1,101))\n",
    "name = []\n",
    "for i in range(1,101):\n",
    "    name.append(\"Student\"+str(i))\n",
    "\n",
    "stream = [\"CSE\", \"ME\", \"ECE\", \"BBA\"]\n",
    "\n",
    "def genstream(stream):\n",
    "    return np.random.choice(stream)"
   ]
  },
  {
   "cell_type": "code",
   "execution_count": null,
   "metadata": {},
   "outputs": [],
   "source": [
    "rollno = np.array(rollno)\n",
    "name = np.array(name)"
   ]
  },
  {
   "cell_type": "code",
   "execution_count": null,
   "metadata": {},
   "outputs": [],
   "source": [
    "streams  = []\n",
    "for i in range(1,101):\n",
    "    streams.append(genstream(stream))"
   ]
  },
  {
   "cell_type": "code",
   "execution_count": null,
   "metadata": {},
   "outputs": [],
   "source": [
    "streams = np.array(streams)"
   ]
  },
  {
   "cell_type": "code",
   "execution_count": null,
   "metadata": {},
   "outputs": [],
   "source": [
    "Gender = np.random.choice(['M','F'], size=100)"
   ]
  },
  {
   "cell_type": "code",
   "execution_count": null,
   "metadata": {},
   "outputs": [],
   "source": [
    "sub1 = np.random.randint(0,101,size=100)\n",
    "sub2 = np.random.randint(0,101,size=100)\n",
    "sub3 = np.random.randint(0,101,size=100)"
   ]
  },
  {
   "cell_type": "code",
   "execution_count": null,
   "metadata": {},
   "outputs": [],
   "source": [
    "d1 = {\"rollno\":rollno, \"name\":name, \"stream\":streams, \"gender\":Gender, \"sub1\":sub1,\n",
    "\"sub2\":sub2, \"sub3\":sub3}"
   ]
  },
  {
   "cell_type": "code",
   "execution_count": null,
   "metadata": {},
   "outputs": [],
   "source": [
    "#if you put a condition in where function then it will return the indexes which satisfy\n",
    "#that condition\n",
    "arr = np.array([1,2,0,0,4,0])\n",
    "ind = np.where(arr != 0)\n",
    "print(*ind[0]) # use * to print only the elements of the array"
   ]
  },
  {
   "cell_type": "code",
   "execution_count": null,
   "metadata": {},
   "outputs": [],
   "source": [
    "arr = np.array([11, 2, 13, 4, 15, 5, 27, 8, 19])\n",
    "arr[arr.argmax()] # argmax gives the index first occurance of the maximum element, \n",
    "#You can access then apply indexing to find the element"
   ]
  },
  {
   "cell_type": "code",
   "execution_count": null,
   "metadata": {},
   "outputs": [],
   "source": [
    "a = np.array([1, 2, 3, 4, 5, 6, 7, 8, 9, 10], dtype=int) \n",
    "a = np.where(((a>=3) & (a<=8)),-a,a)\n",
    "print(a)\n",
    "#while creating numpy array, all elements, in most cases by default float, so it is a good\n",
    "# habit to specify dtype while creating the array.\n",
    "# you can send multiple conditions inside a tuple in where function."
   ]
  },
  {
   "cell_type": "code",
   "execution_count": null,
   "metadata": {},
   "outputs": [],
   "source": [
    "#ages and respective heights of a sample of students was given.\n",
    "\n",
    "age=np.array([15,17,19,20,14,21,16,19,13,20,22,23,21,16,18,19,20,15,17,18])\n",
    "height=np.array([156,144,180,162,152,157,154,155,151,150,158,179,126,182,183,154,159,160,172,149])\n",
    "\n",
    "hi = np.where(height>155) # returns corresponding indexes \n",
    "hi = hi[0]\n",
    "hl = height[height>155] #boolean indexing to get coresponding elements\n",
    "al = age[hi]\n",
    "\n",
    "# print(al)\n",
    "# print(hl)\n",
    "\n",
    "x = list(zip(al,hl)) #zip object is converted to a tuple\n",
    "for i in x:\n",
    "    print(i[0], i[1])\n",
    "\n",
    "# If the the zip object is converted to a listand the list contains duplicate data, \n",
    "# the duplicate created as part of the list comprehension will be treated as an update to \n",
    "# the dictionary and change the value associated with the key. No error will be reported.\n",
    "\n",
    "# for i,j in dict(x).items():\n",
    "#     print(i,j) will remove duplicates, use carefully"
   ]
  },
  {
   "cell_type": "code",
   "execution_count": 46,
   "metadata": {},
   "outputs": [
    {
     "name": "stdout",
     "output_type": "stream",
     "text": [
      "[2 2 3 4 5 6 6 6]\n"
     ]
    }
   ],
   "source": [
    "# np.clip, all the values lesser or greater than the nearest threshold will become equal \n",
    "# to the threshold\n",
    "nums = [1, 2, 3, 4, 5, 6, 7, 8 ]\n",
    "clipnums= np.clip(nums, a_min = 2, a_max = 6)\n",
    "print(clipnums)"
   ]
  },
  {
   "cell_type": "code",
   "execution_count": null,
   "metadata": {},
   "outputs": [],
   "source": [
    "temperatures = np.array([ 29.3, 42.1, 18.8, 16.1, 38.0, 12.5, \n",
    "12.6, 49.9, 38.6, 31.3, 9.2, 22.2])\n",
    "print(temperatures.shape)\n",
    "\n",
    "temperatures = np.array([ 29.3, 42.1, 18.8, 16.1, 38.0, 12.5, \n",
    "12.6, 49.9, 38.6, 31.3, 9.2, 22.2]).reshape(2, 2, 3)\n",
    "\n",
    "print(temperatures.shape)\n",
    "print(temperatures)\n",
    "print(temperatures.max(axis=2))\n",
    "#sabse ander wali arrays me horizontally max\n",
    "print(temperatures.max(axis=1))\n",
    "#un arrays me vertically max;\n",
    "print(temperatures.max(axis=0))\n",
    "#un 2d arrays ko aamne samne rakh ke max\n",
    "\n",
    "\n",
    "np.swapaxes(temperatures, 1, 2) \n",
    "# 2,2,3 are axes of array  = 2*2*3\n",
    "#You swapped 1st index axis with 2nd index array now it is 2*3*2 \n",
    "temperatures\n",
    "#Vertical * Horizontal *Lateral Height\n",
    "#to calculate shape in 3d array = no.of 2d arrays * no.of 1d arrays * no.of elements in\n",
    "#1d array\n"
   ]
  },
  {
   "cell_type": "code",
   "execution_count": null,
   "metadata": {},
   "outputs": [],
   "source": [
    "table = np.array([\n",
    "    [5, 3, 7, 1],\n",
    "    [2, 6, 7 ,9],\n",
    "    [1, 1, 1, 1],\n",
    "    [4, 3, 2, 0],\n",
    "    ])\n",
    "\n",
    "table.max() #max in whole datd set\n",
    "#9\n",
    "\n",
    "table.max(axis=0)\n",
    "#array([5, 6, 7, 9]) vertically max/column-wise max\n",
    "\n",
    "table.max(axis=1)\n",
    "#array([7, 9, 1, 4]) horizonally max/row-wise max"
   ]
  },
  {
   "cell_type": "code",
   "execution_count": null,
   "metadata": {},
   "outputs": [],
   "source": [
    "#np.flip(c) #print(c[::-1])\n",
    "#np.arange(1,10,3) start<end, step is positive\n",
    "# np.arange(5,1,-1) start>end, step is negative"
   ]
  },
  {
   "attachments": {},
   "cell_type": "markdown",
   "metadata": {},
   "source": [
    "reshape(n,-1) = Give n rows but one columns<br>\n",
    "reshape(-1,n) = Give n columns but one row, basically converts a 1d array to 2d array"
   ]
  },
  {
   "cell_type": "code",
   "execution_count": 61,
   "metadata": {},
   "outputs": [
    {
     "name": "stdout",
     "output_type": "stream",
     "text": [
      "[[2]\n",
      " [6]\n",
      " [1]\n",
      " [3]\n",
      " [6]]\n",
      "[[2 6 1 3 6]]\n"
     ]
    }
   ],
   "source": [
    "print(arr6.reshape(5,-1))\n",
    "print(arr6.reshape(-1,5))"
   ]
  },
  {
   "cell_type": "code",
   "execution_count": null,
   "metadata": {},
   "outputs": [],
   "source": [
    "np.linspace(-5, 5, 20, dtype=int, endpoint=False)\n",
    "#you can specify dtype also\n",
    "#if false it will not include endpoint\n",
    "#while using int dtype make sure the range of values is okay else it can print same \n",
    "#same values in between\n",
    "numbers, step = np.linspace(-5, 5, 20, retstep=True)\n",
    "#retstep = True, gives the step value for the array"
   ]
  },
  {
   "cell_type": "code",
   "execution_count": 62,
   "metadata": {},
   "outputs": [
    {
     "data": {
      "text/plain": [
       "array([[  2.        ,   5.        ,   9.        ],\n",
       "       [ 12.88888889,  18.88888889,  25.77777778],\n",
       "       [ 23.77777778,  32.77777778,  42.55555556],\n",
       "       [ 34.66666667,  46.66666667,  59.33333333],\n",
       "       [ 45.55555556,  60.55555556,  76.11111111],\n",
       "       [ 56.44444444,  74.44444444,  92.88888889],\n",
       "       [ 67.33333333,  88.33333333, 109.66666667],\n",
       "       [ 78.22222222, 102.22222222, 126.44444444],\n",
       "       [ 89.11111111, 116.11111111, 143.22222222],\n",
       "       [100.        , 130.        , 160.        ]])"
      ]
     },
     "execution_count": 62,
     "metadata": {},
     "output_type": "execute_result"
    }
   ],
   "source": [
    "output = np.linspace(start=[2, 5, 9], stop=[100, 130, 160], num=10)\n",
    "#use axis = 1 for transpose\n",
    "output"
   ]
  },
  {
   "cell_type": "code",
   "execution_count": 63,
   "metadata": {},
   "outputs": [
    {
     "data": {
      "image/png": "[encoded data removed]",
      "text/plain": [
       "<Figure size 640x480 with 1 Axes>"
      ]
     },
     "metadata": {},
     "output_type": "display_data"
    }
   ],
   "source": [
    "import matplotlib.pyplot as plt \n",
    "# x = np.linspace(1,10,50)\n",
    "# y = 3*(x**2) - 7*x - 6\n",
    "# plt.plot(x,y)\n",
    "# plt.show()\n",
    "x = np.linspace(1,10,50)\n",
    "plt.plot(x,np.sin(x))\n",
    "plt.plot(x,np.cos(x))\n",
    "plt.show()"
   ]
  },
  {
   "cell_type": "code",
   "execution_count": null,
   "metadata": {},
   "outputs": [],
   "source": [
    "# np ki execution speed fast hai list/range se\n",
    "# np khud array bana ke deta hai, range se explicitly list banani padti hai\n",
    "# np floats me bhi kaam karta hai, range sirf integer me\n",
    "# np me ek line a code, range clumsy and ineligant"
   ]
  },
  {
   "attachments": {},
   "cell_type": "markdown",
   "metadata": {},
   "source": [
    "use help or '?' to understand documentation"
   ]
  },
  {
   "cell_type": "code",
   "execution_count": 82,
   "metadata": {},
   "outputs": [
    {
     "name": "stdout",
     "output_type": "stream",
     "text": [
      "Help on function linspace in module numpy:\n",
      "\n",
      "linspace(start, stop, num=50, endpoint=True, retstep=False, dtype=None, axis=0)\n",
      "    Return evenly spaced numbers over a specified interval.\n",
      "    \n",
      "    Returns `num` evenly spaced samples, calculated over the\n",
      "    interval [`start`, `stop`].\n",
      "    \n",
      "    The endpoint of the interval can optionally be excluded.\n",
      "    \n",
      "    .. versionchanged:: 1.16.0\n",
      "        Non-scalar `start` and `stop` are now supported.\n",
      "    \n",
      "    .. versionchanged:: 1.20.0\n",
      "        Values are rounded towards ``-inf`` instead of ``0`` when an\n",
      "        integer ``dtype`` is specified. The old behavior can\n",
      "        still be obtained with ``np.linspace(start, stop, num).astype(int)``\n",
      "    \n",
      "    Parameters\n",
      "    ----------\n",
      "    start : array_like\n",
      "        The starting value of the sequence.\n",
      "    stop : array_like\n",
      "        The end value of the sequence, unless `endpoint` is set to False.\n",
      "        In that case, the sequence consists of all but the last of ``num + 1``\n",
      "        evenly spaced samples, so that `stop` is excluded.  Note that the step\n",
      "        size changes when `endpoint` is False.\n",
      "    num : int, optional\n",
      "        Number of samples to generate. Default is 50. Must be non-negative.\n",
      "    endpoint : bool, optional\n",
      "        If True, `stop` is the last sample. Otherwise, it is not included.\n",
      "        Default is True.\n",
      "    retstep : bool, optional\n",
      "        If True, return (`samples`, `step`), where `step` is the spacing\n",
      "        between samples.\n",
      "    dtype : dtype, optional\n",
      "        The type of the output array.  If `dtype` is not given, the data type\n",
      "        is inferred from `start` and `stop`. The inferred dtype will never be\n",
      "        an integer; `float` is chosen even if the arguments would produce an\n",
      "        array of integers.\n",
      "    \n",
      "        .. versionadded:: 1.9.0\n",
      "    \n",
      "    axis : int, optional\n",
      "        The axis in the result to store the samples.  Relevant only if start\n",
      "        or stop are array-like.  By default (0), the samples will be along a\n",
      "        new axis inserted at the beginning. Use -1 to get an axis at the end.\n",
      "    \n",
      "        .. versionadded:: 1.16.0\n",
      "    \n",
      "    Returns\n",
      "    -------\n",
      "    samples : ndarray\n",
      "        There are `num` equally spaced samples in the closed interval\n",
      "        ``[start, stop]`` or the half-open interval ``[start, stop)``\n",
      "        (depending on whether `endpoint` is True or False).\n",
      "    step : float, optional\n",
      "        Only returned if `retstep` is True\n",
      "    \n",
      "        Size of spacing between samples.\n",
      "    \n",
      "    \n",
      "    See Also\n",
      "    --------\n",
      "    arange : Similar to `linspace`, but uses a step size (instead of the\n",
      "             number of samples).\n",
      "    geomspace : Similar to `linspace`, but with numbers spaced evenly on a log\n",
      "                scale (a geometric progression).\n",
      "    logspace : Similar to `geomspace`, but with the end points specified as\n",
      "               logarithms.\n",
      "    \n",
      "    Examples\n",
      "    --------\n",
      "    >>> np.linspace(2.0, 3.0, num=5)\n",
      "    array([2.  , 2.25, 2.5 , 2.75, 3.  ])\n",
      "    >>> np.linspace(2.0, 3.0, num=5, endpoint=False)\n",
      "    array([2. ,  2.2,  2.4,  2.6,  2.8])\n",
      "    >>> np.linspace(2.0, 3.0, num=5, retstep=True)\n",
      "    (array([2.  ,  2.25,  2.5 ,  2.75,  3.  ]), 0.25)\n",
      "    \n",
      "    Graphical illustration:\n",
      "    \n",
      "    >>> import matplotlib.pyplot as plt\n",
      "    >>> N = 8\n",
      "    >>> y = np.zeros(N)\n",
      "    >>> x1 = np.linspace(0, 10, N, endpoint=True)\n",
      "    >>> x2 = np.linspace(0, 10, N, endpoint=False)\n",
      "    >>> plt.plot(x1, y, 'o')\n",
      "    [<matplotlib.lines.Line2D object at 0x...>]\n",
      "    >>> plt.plot(x2, y + 0.5, 'o')\n",
      "    [<matplotlib.lines.Line2D object at 0x...>]\n",
      "    >>> plt.ylim([-0.5, 1])\n",
      "    (-0.5, 1)\n",
      "    >>> plt.show()\n",
      "\n"
     ]
    }
   ],
   "source": [
    "help(np.linspace)"
   ]
  },
  {
   "cell_type": "code",
   "execution_count": 85,
   "metadata": {},
   "outputs": [
    {
     "name": "stdout",
     "output_type": "stream",
     "text": [
      "\u001b[1;31mSignature:\u001b[0m\n",
      "\u001b[0mnp\u001b[0m\u001b[1;33m.\u001b[0m\u001b[0mlinspace\u001b[0m\u001b[1;33m(\u001b[0m\u001b[1;33m\n",
      "\u001b[0m    \u001b[0mstart\u001b[0m\u001b[1;33m,\u001b[0m\u001b[1;33m\n",
      "\u001b[0m    \u001b[0mstop\u001b[0m\u001b[1;33m,\u001b[0m\u001b[1;33m\n",
      "\u001b[0m    \u001b[0mnum\u001b[0m\u001b[1;33m=\u001b[0m\u001b[1;36m50\u001b[0m\u001b[1;33m,\u001b[0m\u001b[1;33m\n",
      "\u001b[0m    \u001b[0mendpoint\u001b[0m\u001b[1;33m=\u001b[0m\u001b[1;32mTrue\u001b[0m\u001b[1;33m,\u001b[0m\u001b[1;33m\n",
      "\u001b[0m    \u001b[0mretstep\u001b[0m\u001b[1;33m=\u001b[0m\u001b[1;32mFalse\u001b[0m\u001b[1;33m,\u001b[0m\u001b[1;33m\n",
      "\u001b[0m    \u001b[0mdtype\u001b[0m\u001b[1;33m=\u001b[0m\u001b[1;32mNone\u001b[0m\u001b[1;33m,\u001b[0m\u001b[1;33m\n",
      "\u001b[0m    \u001b[0maxis\u001b[0m\u001b[1;33m=\u001b[0m\u001b[1;36m0\u001b[0m\u001b[1;33m,\u001b[0m\u001b[1;33m\n",
      "\u001b[0m\u001b[1;33m)\u001b[0m\u001b[1;33m\u001b[0m\u001b[1;33m\u001b[0m\u001b[0m\n",
      "\u001b[1;31mDocstring:\u001b[0m\n",
      "Return evenly spaced numbers over a specified interval.\n",
      "\n",
      "Returns `num` evenly spaced samples, calculated over the\n",
      "interval [`start`, `stop`].\n",
      "\n",
      "The endpoint of the interval can optionally be excluded.\n",
      "\n",
      ".. versionchanged:: 1.16.0\n",
      "    Non-scalar `start` and `stop` are now supported.\n",
      "\n",
      ".. versionchanged:: 1.20.0\n",
      "    Values are rounded towards ``-inf`` instead of ``0`` when an\n",
      "    integer ``dtype`` is specified. The old behavior can\n",
      "    still be obtained with ``np.linspace(start, stop, num).astype(int)``\n",
      "\n",
      "Parameters\n",
      "----------\n",
      "start : array_like\n",
      "    The starting value of the sequence.\n",
      "stop : array_like\n",
      "    The end value of the sequence, unless `endpoint` is set to False.\n",
      "    In that case, the sequence consists of all but the last of ``num + 1``\n",
      "    evenly spaced samples, so that `stop` is excluded.  Note that the step\n",
      "    size changes when `endpoint` is False.\n",
      "num : int, optional\n",
      "    Number of samples to generate. Default is 50. Must be non-negative.\n",
      "endpoint : bool, optional\n",
      "    If True, `stop` is the last sample. Otherwise, it is not included.\n",
      "    Default is True.\n",
      "retstep : bool, optional\n",
      "    If True, return (`samples`, `step`), where `step` is the spacing\n",
      "    between samples.\n",
      "dtype : dtype, optional\n",
      "    The type of the output array.  If `dtype` is not given, the data type\n",
      "    is inferred from `start` and `stop`. The inferred dtype will never be\n",
      "    an integer; `float` is chosen even if the arguments would produce an\n",
      "    array of integers.\n",
      "\n",
      "    .. versionadded:: 1.9.0\n",
      "\n",
      "axis : int, optional\n",
      "    The axis in the result to store the samples.  Relevant only if start\n",
      "    or stop are array-like.  By default (0), the samples will be along a\n",
      "    new axis inserted at the beginning. Use -1 to get an axis at the end.\n",
      "\n",
      "    .. versionadded:: 1.16.0\n",
      "\n",
      "Returns\n",
      "-------\n",
      "samples : ndarray\n",
      "    There are `num` equally spaced samples in the closed interval\n",
      "    ``[start, stop]`` or the half-open interval ``[start, stop)``\n",
      "    (depending on whether `endpoint` is True or False).\n",
      "step : float, optional\n",
      "    Only returned if `retstep` is True\n",
      "\n",
      "    Size of spacing between samples.\n",
      "\n",
      "\n",
      "See Also\n",
      "--------\n",
      "arange : Similar to `linspace`, but uses a step size (instead of the\n",
      "         number of samples).\n",
      "geomspace : Similar to `linspace`, but with numbers spaced evenly on a log\n",
      "            scale (a geometric progression).\n",
      "logspace : Similar to `geomspace`, but with the end points specified as\n",
      "           logarithms.\n",
      "\n",
      "Examples\n",
      "--------\n",
      ">>> np.linspace(2.0, 3.0, num=5)\n",
      "array([2.  , 2.25, 2.5 , 2.75, 3.  ])\n",
      ">>> np.linspace(2.0, 3.0, num=5, endpoint=False)\n",
      "array([2. ,  2.2,  2.4,  2.6,  2.8])\n",
      ">>> np.linspace(2.0, 3.0, num=5, retstep=True)\n",
      "(array([2.  ,  2.25,  2.5 ,  2.75,  3.  ]), 0.25)\n",
      "\n",
      "Graphical illustration:\n",
      "\n",
      ">>> import matplotlib.pyplot as plt\n",
      ">>> N = 8\n",
      ">>> y = np.zeros(N)\n",
      ">>> x1 = np.linspace(0, 10, N, endpoint=True)\n",
      ">>> x2 = np.linspace(0, 10, N, endpoint=False)\n",
      ">>> plt.plot(x1, y, 'o')\n",
      "[<matplotlib.lines.Line2D object at 0x...>]\n",
      ">>> plt.plot(x2, y + 0.5, 'o')\n",
      "[<matplotlib.lines.Line2D object at 0x...>]\n",
      ">>> plt.ylim([-0.5, 1])\n",
      "(-0.5, 1)\n",
      ">>> plt.show()\n",
      "\u001b[1;31mFile:\u001b[0m      c:\\users\\harsh\\appdata\\local\\programs\\python\\python311\\lib\\site-packages\\numpy\\core\\function_base.py\n",
      "\u001b[1;31mType:\u001b[0m      function\n"
     ]
    }
   ],
   "source": [
    "np.linspace?"
   ]
  },
  {
   "cell_type": "code",
   "execution_count": 88,
   "metadata": {},
   "outputs": [
    {
     "name": "stdout",
     "output_type": "stream",
     "text": [
      "\u001b[1;31mType:\u001b[0m        CClass\n",
      "\u001b[1;31mString form:\u001b[0m <numpy.lib.index_tricks.CClass object at 0x0000024F7857AFD0>\n",
      "\u001b[1;31mLength:\u001b[0m      0\n",
      "\u001b[1;31mFile:\u001b[0m        c:\\users\\harsh\\appdata\\local\\programs\\python\\python311\\lib\\site-packages\\numpy\\lib\\index_tricks.py\n",
      "\u001b[1;31mDocstring:\u001b[0m  \n",
      "Translates slice objects to concatenation along the second axis.\n",
      "\n",
      "This is short-hand for ``np.r_['-1,2,0', index expression]``, which is\n",
      "useful because of its common occurrence. In particular, arrays will be\n",
      "stacked along their last axis after being upgraded to at least 2-D with\n",
      "1's post-pended to the shape (column vectors made out of 1-D arrays).\n",
      "\n",
      "See Also\n",
      "--------\n",
      "column_stack : Stack 1-D arrays as columns into a 2-D array.\n",
      "r_ : For more detailed documentation.\n",
      "\n",
      "Examples\n",
      "--------\n",
      ">>> np.c_[np.array([1,2,3]), np.array([4,5,6])]\n",
      "array([[1, 4],\n",
      "       [2, 5],\n",
      "       [3, 6]])\n",
      ">>> np.c_[np.array([[1,2,3]]), 0, 0, np.array([[4,5,6]])]\n",
      "array([[1, 2, 3, ..., 4, 5, 6]])\n"
     ]
    }
   ],
   "source": [
    "np.c_?"
   ]
  }
 ],
 "metadata": {
  "kernelspec": {
   "display_name": "Python 3",
   "language": "python",
   "name": "python3"
  },
  "language_info": {
   "codemirror_mode": {
    "name": "ipython",
    "version": 3
   },
   "file_extension": ".py",
   "mimetype": "text/x-python",
   "name": "python",
   "nbconvert_exporter": "python",
   "pygments_lexer": "ipython3",
   "version": "3.11.0"
  },
  "orig_nbformat": 4,
  "vscode": {
   "interpreter": {
    "hash": "b5366fdf1b75ea46866cbb0dbf20c9c00a492271cd056179d726b8c91a378c13"
   }
  }
 },
 "nbformat": 4,
 "nbformat_minor": 2
}
